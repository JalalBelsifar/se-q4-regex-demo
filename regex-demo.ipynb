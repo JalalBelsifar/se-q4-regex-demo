{
 "cells": [
  {
   "cell_type": "markdown",
   "metadata": {},
   "source": [
    "# Regular Expressions"
   ]
  },
  {
   "cell_type": "markdown",
   "metadata": {},
   "source": [
    "\"Regular expressions (called REs, or regexes, or regex patterns) are essentially a tiny, highly specialized programming language embedded inside Python and made available through the [re](https://docs.python.org/3/library/re.html#module-re) module. Using this little language, you specify the rules for the set of possible strings that you want to match; this set might contain English sentences, or e-mail addresses...\" - https://docs.python.org/3/howto/regex.html"
   ]
  },
  {
   "cell_type": "code",
   "execution_count": null,
   "metadata": {},
   "outputs": [],
   "source": [
    "# here we're importing python's module to handle regular expressions/regex (re)\n",
    "import re"
   ]
  },
  {
   "cell_type": "markdown",
   "metadata": {},
   "source": [
    "# regex methods"
   ]
  },
  {
   "cell_type": "markdown",
   "metadata": {},
   "source": [
    "## Using re.search\n",
    "Finds the first occurance and returns a Match object"
   ]
  },
  {
   "cell_type": "code",
   "execution_count": null,
   "metadata": {},
   "outputs": [],
   "source": [
    "# Which occurance on \"N\" does this find?\n",
    "result = re.search(\"N\", \"hhhhhhNhhhhhh\")\n",
    "print(result)"
   ]
  },
  {
   "cell_type": "code",
   "execution_count": null,
   "metadata": {},
   "outputs": [],
   "source": [
    "# Which occurance on \"N\" does this find?\n",
    "result2 = re.search(\"N\", \"hhhhhhNhhhhhhN\")\n",
    "print(result)"
   ]
  },
  {
   "cell_type": "code",
   "execution_count": null,
   "metadata": {},
   "outputs": [],
   "source": [
    "# This is how we can find multiple matches/occurances \n",
    "needle = \"Buffalo\"\n",
    "haystack = \"Buffalo buffalo Buffalo buffalo buffalo buffalo Buffalo buffalo\"\n",
    "\n",
    "while True:\n",
    "    match = re.search(needle, haystack)\n",
    "    if not match:\n",
    "        break\n",
    "    else:\n",
    "        print(match)\n",
    "        haystack = haystack[match.end():]\n",
    "        "
   ]
  },
  {
   "cell_type": "markdown",
   "metadata": {},
   "source": [
    "## Using re.findall\n",
    "Finds all occurances and returns a list with the occurances"
   ]
  },
  {
   "cell_type": "code",
   "execution_count": null,
   "metadata": {},
   "outputs": [],
   "source": [
    "# You may find this easier to implement than the previous example \n",
    "results = re.findall(\"Buffalo\", \"Buffalo buffalo Buffalo buffalo buffalo buffalo Buffalo buffalo\")\n",
    "print(results)"
   ]
  },
  {
   "cell_type": "markdown",
   "metadata": {},
   "source": [
    "## Using re.compile\n",
    "Often times, you'll find examples using re.compile. It's another way to do the same thing with different syntax.\n",
    "\n",
    "Benefits:\n",
    "- performance\n",
    "- reusable"
   ]
  },
  {
   "cell_type": "markdown",
   "metadata": {},
   "source": [
    "### match vs. search\n",
    "Two popular methods you'll commonly see: match & search"
   ]
  },
  {
   "cell_type": "markdown",
   "metadata": {},
   "source": [
    "#### match \n",
    "finds an occurance if it's at the beginning of the string"
   ]
  },
  {
   "cell_type": "code",
   "execution_count": null,
   "metadata": {},
   "outputs": [],
   "source": [
    "\n",
    "pattern = re.compile(\"N\")\n",
    "result = pattern.match(\"hhhhhhNhhhhNhh\")\n",
    "# note how the substring \"N\" is not at the beginning of our string\n",
    "\n",
    "if result:\n",
    "    print(result)\n",
    "else:\n",
    "    print(f\"NO MATCH, result evalutates to {result}\")"
   ]
  },
  {
   "cell_type": "code",
   "execution_count": null,
   "metadata": {},
   "outputs": [],
   "source": [
    "pattern = re.compile(\"N\")\n",
    "result = pattern.match(\"NhhhhhhNhhhhNhh\")\n",
    "# note how the substring \"N\" is at the beginning of our string\n",
    "\n",
    "if result:\n",
    "    print(result)\n",
    "else:\n",
    "    print(f\"NO MATCH, result evalutates to {result}\")"
   ]
  },
  {
   "cell_type": "markdown",
   "metadata": {},
   "source": [
    "#### search\n",
    "finds the first occurance anywhere in the string"
   ]
  },
  {
   "cell_type": "code",
   "execution_count": null,
   "metadata": {},
   "outputs": [],
   "source": [
    "pattern = re.compile(\"N\")\n",
    "match = pattern.search(\"hhhhhhNhhhhNhh\")\n",
    "\n",
    "if match:\n",
    "    print(match)\n",
    "else:\n",
    "    print(\"NO MATCH\")"
   ]
  },
  {
   "cell_type": "code",
   "execution_count": null,
   "metadata": {},
   "outputs": [],
   "source": [
    "# let's find multiple occurances\n",
    "needle = \"Buffalo\"\n",
    "haystack = \"Buffalo buffalo Buffalo buffalo buffalo buffalo Buffalo buffalo\"\n",
    "pattern = re.compile(needle)\n",
    "match = pattern.search(haystack)\n",
    "\n",
    "while True:\n",
    "    if not match:\n",
    "        break\n",
    "    else:\n",
    "        print(match)\n",
    "        match = pattern.search(haystack, match.end())"
   ]
  },
  {
   "cell_type": "markdown",
   "metadata": {},
   "source": [
    "# Exercises\n",
    "\n",
    "Test your regex knowledge"
   ]
  },
  {
   "cell_type": "code",
   "execution_count": null,
   "metadata": {},
   "outputs": [],
   "source": [
    "lyrics = \"Everything is awesome, everything is cool when you're part of a team. \\\n",
    "Everything is awesome, when you're living out a dream.\""
   ]
  },
  {
   "cell_type": "code",
   "execution_count": null,
   "metadata": {},
   "outputs": [],
   "source": [
    "# 1. find all occurances of the substring \"awesome\"\n",
    "# CODE GOES HERE\n",
    "x = re.findall(\"awesome\", lyrics)\n",
    "print(x)"
   ]
  },
  {
   "cell_type": "code",
   "execution_count": null,
   "metadata": {},
   "outputs": [],
   "source": [
    "# 2. find the first occurance of the substring \"Everything\"\n",
    "# CODE GOES HERE\n",
    "x = re.search(\"Everything\", lyrics)\n",
    "print(x)"
   ]
  },
  {
   "cell_type": "code",
   "execution_count": null,
   "metadata": {},
   "outputs": [],
   "source": [
    "# 3. find the first occurence of the substring \"team\"\n",
    "# CODE GOES HERE\n",
    "t = \"team\"\n",
    "x = re.search(f\"{t}\", lyrics)\n",
    "print(x)"
   ]
  },
  {
   "cell_type": "code",
   "execution_count": null,
   "metadata": {},
   "outputs": [],
   "source": [
    "# use this string for number 4 and 5\n",
    "# you may want to use this website: https://regex101.com/\n",
    "info = \"Peter Parker, Friendly Neigborhood Spider-Man, peterparker@gmail.com, spiderman@aol.com, 212-456-7890, (212)324-2354\"\n"
   ]
  },
  {
   "cell_type": "code",
   "execution_count": null,
   "metadata": {},
   "outputs": [],
   "source": [
    "# 4. find the both occurances of an email address in the string\n",
    "# CODE GOES HERE\n",
    "\n",
    "# Extra Credit: just find the domain names in the email addresses\n",
    "# CODE GOES HERE"
   ]
  },
  {
   "cell_type": "code",
   "execution_count": null,
   "metadata": {},
   "outputs": [],
   "source": [
    "# 5. find the first occurance of a phone number\n",
    "# CODE GOES HERE\n",
    "\n",
    "# Extra Credit: find all phone numbers in the info string\n",
    "# CODE GOES HERE"
   ]
  },
  {
   "cell_type": "markdown",
   "metadata": {},
   "source": [
    "# FAQ\n",
    "- Why do we see a lowercase **r** in front of the regex patterns in python? -->\n",
    "[It's a feature](https://docs.python.org/3/library/re.html#raw-string-notation)\n",
    "- When should we use re.complile versus re.search, re.match, re.findall, etc. ? -->\n",
    "[It depends on your use case](https://docs.python.org/3/library/re.html#re.compile)\n",
    "- When do we have re.match? -->\n",
    "[It also depends on your use case](https://stackoverflow.com/a/29009475)"
   ]
  }
 ],
 "metadata": {
  "kernelspec": {
   "display_name": "Python 3",
   "language": "python",
   "name": "python3"
  },
  "language_info": {
   "codemirror_mode": {
    "name": "ipython",
    "version": 3
   },
   "file_extension": ".py",
   "mimetype": "text/x-python",
   "name": "python",
   "nbconvert_exporter": "python",
   "pygments_lexer": "ipython3",
   "version": "3.9.0"
  }
 },
 "nbformat": 4,
 "nbformat_minor": 4
}
